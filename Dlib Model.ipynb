{
 "cells": [
  {
   "cell_type": "code",
   "execution_count": 1,
   "id": "642fd6ac",
   "metadata": {},
   "outputs": [],
   "source": [
    "import os\n",
    "import cv2\n",
    "import dlib\n",
    "import numpy as np"
   ]
  },
  {
   "cell_type": "code",
   "execution_count": 4,
   "id": "99cd8905",
   "metadata": {},
   "outputs": [],
   "source": [
    "# Load the face detector and face recognition model\n",
    "detector = dlib.get_frontal_face_detector()\n",
    "sp = dlib.shape_predictor(\"shape_predictor_5_face_landmarks.dat\")\n",
    "facerec = dlib.face_recognition_model_v1(\"dlib_face_recognition_resnet_model_v1.dat\")"
   ]
  },
  {
   "cell_type": "code",
   "execution_count": 5,
   "id": "bb108ed6",
   "metadata": {},
   "outputs": [],
   "source": [
    "# Function to extract face descriptors from an image\n",
    "def extract_face_descriptor(image_path):\n",
    "    # Load the image\n",
    "    image = cv2.imread(image_path)\n",
    "    image_rgb = cv2.cvtColor(image, cv2.COLOR_BGR2RGB)\n",
    "\n",
    "    # Detect faces in the image\n",
    "    faces = detector(image_rgb, 1)\n",
    "\n",
    "    # If no faces are found, return None\n",
    "    if len(faces) == 0:\n",
    "        return None\n",
    "\n",
    "    # Extract the first face found\n",
    "    face = faces[0]\n",
    "    \n",
    "    # Get the landmarks and face descriptor\n",
    "    shape = sp(image_rgb, face)\n",
    "    face_descriptor = facerec.compute_face_descriptor(image_rgb, shape)\n",
    "\n",
    "    return np.array(face_descriptor)"
   ]
  },
  {
   "cell_type": "code",
   "execution_count": 6,
   "id": "19bf74cd",
   "metadata": {},
   "outputs": [],
   "source": [
    "# Define the path to your dataset\n",
    "dataset_path = \"E:\\\\Datasets\\\\data_tango\""
   ]
  },
  {
   "cell_type": "code",
   "execution_count": 7,
   "id": "fb2da9f1",
   "metadata": {},
   "outputs": [],
   "source": [
    "# Create a dictionary to store face embeddings in memory\n",
    "face_embeddings_db = {}\n",
    "\n",
    "# Iterate through each folder in the dataset\n",
    "for label in os.listdir(dataset_path):\n",
    "    folder_path = os.path.join(dataset_path, label)\n",
    "    if os.path.isdir(folder_path):\n",
    "        for filename in os.listdir(folder_path):\n",
    "            if filename.endswith(\".jpg\") or filename.endswith(\".png\"):\n",
    "                image_path = os.path.join(folder_path, filename)\n",
    "                descriptor = extract_face_descriptor(image_path)\n",
    "                if descriptor is not None:\n",
    "                    face_embeddings_db[label] = descriptor "
   ]
  },
  {
   "cell_type": "code",
   "execution_count": 13,
   "id": "deb05ea3",
   "metadata": {},
   "outputs": [],
   "source": [
    "# Testing with a new face\n",
    "input_image_path = r\"C:\\Users\\DELL\\Downloads\\chandler.jpg\" \n",
    "input_descriptor = extract_face_descriptor(input_image_path)"
   ]
  },
  {
   "cell_type": "code",
   "execution_count": 14,
   "id": "b712e784",
   "metadata": {},
   "outputs": [
    {
     "name": "stdout",
     "output_type": "stream",
     "text": [
      "Name: 667, Distance: 0.46\n",
      "Name: 370, Distance: 0.59\n",
      "Name: 471, Distance: 0.60\n",
      "Name: 122, Distance: 0.61\n",
      "Name: 528, Distance: 0.62\n"
     ]
    }
   ],
   "source": [
    "if input_descriptor is not None:\n",
    "    \n",
    "    similarities = {}\n",
    "    for name, db_descriptor in face_embeddings_db.items():\n",
    "        # Calculate the Euclidean distance between descriptors\n",
    "        distance = np.linalg.norm(input_descriptor - db_descriptor)\n",
    "        similarities[name] = distance\n",
    "\n",
    "    # Sorting and results\n",
    "    sorted_similarities = sorted(similarities.items(), key=lambda x: x[1])\n",
    "    for name, dist in sorted_similarities[:5]:\n",
    "        print(f'Name: {name}, Distance: {dist:.2f}')\n",
    "else:\n",
    "    print(\"No face detected in the input image.\")"
   ]
  },
  {
   "cell_type": "code",
   "execution_count": null,
   "id": "62cd4a95",
   "metadata": {},
   "outputs": [],
   "source": []
  }
 ],
 "metadata": {
  "kernelspec": {
   "display_name": "Python 3 (ipykernel)",
   "language": "python",
   "name": "python3"
  },
  "language_info": {
   "codemirror_mode": {
    "name": "ipython",
    "version": 3
   },
   "file_extension": ".py",
   "mimetype": "text/x-python",
   "name": "python",
   "nbconvert_exporter": "python",
   "pygments_lexer": "ipython3",
   "version": "3.12.4"
  }
 },
 "nbformat": 4,
 "nbformat_minor": 5
}
